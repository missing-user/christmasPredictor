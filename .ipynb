{
 "cells": [
  {
   "cell_type": "markdown",
   "metadata": {},
   "source": [
    "# Historic Spotify Chart Analysis\n",
    "In this notebook, we will analyze the historic Spotify charts to determine recurring christmas songs and artists. The data has been pulled from [Spotifycharts](https://spotifycharts.com/home/) Top 200 Weekly Playlist. Since the charts API has been deprecated and scraping is against their Terms of Service, we'll be using the [historic Spotify charts dataset from Kaggle](https://www.kaggle.com/bartomiejczyewski/spotify-top-200-weekly-global-20172021).\n",
    "\n",
    "First let's load the data into a pandas dataframe and do some basic data cleaning."
   ]
  },
  {
   "cell_type": "code",
   "execution_count": 212,
   "metadata": {},
   "outputs": [
    {
     "name": "stdout",
     "output_type": "stream",
     "text": [
      "Using matplotlib backend: TkAgg\n"
     ]
    },
    {
     "data": {
      "text/html": [
       "<div>\n",
       "<style scoped>\n",
       "    .dataframe tbody tr th:only-of-type {\n",
       "        vertical-align: middle;\n",
       "    }\n",
       "\n",
       "    .dataframe tbody tr th {\n",
       "        vertical-align: top;\n",
       "    }\n",
       "\n",
       "    .dataframe thead th {\n",
       "        text-align: right;\n",
       "    }\n",
       "</style>\n",
       "<table border=\"1\" class=\"dataframe\">\n",
       "  <thead>\n",
       "    <tr style=\"text-align: right;\">\n",
       "      <th></th>\n",
       "      <th>Rank</th>\n",
       "      <th>Track</th>\n",
       "      <th>Artist</th>\n",
       "      <th>Streams</th>\n",
       "      <th>Artist_Genres</th>\n",
       "    </tr>\n",
       "    <tr>\n",
       "      <th>date</th>\n",
       "      <th></th>\n",
       "      <th></th>\n",
       "      <th></th>\n",
       "      <th></th>\n",
       "      <th></th>\n",
       "    </tr>\n",
       "  </thead>\n",
       "  <tbody>\n",
       "    <tr>\n",
       "      <th>2017-01-06</th>\n",
       "      <td>1</td>\n",
       "      <td>starboy</td>\n",
       "      <td>The Weeknd</td>\n",
       "      <td>25734078</td>\n",
       "      <td>[canadian contemporary r&amp;b, canadian pop, pop]</td>\n",
       "    </tr>\n",
       "    <tr>\n",
       "      <th>2017-01-06</th>\n",
       "      <td>2</td>\n",
       "      <td>closer</td>\n",
       "      <td>The Chainsmokers</td>\n",
       "      <td>23519705</td>\n",
       "      <td>[dance pop, edm, electropop, pop, pop dance, t...</td>\n",
       "    </tr>\n",
       "    <tr>\n",
       "      <th>2017-01-06</th>\n",
       "      <td>3</td>\n",
       "      <td>rockabye (feat. sean paul &amp; anne-marie)</td>\n",
       "      <td>Clean Bandit</td>\n",
       "      <td>21216399</td>\n",
       "      <td>[dance pop, edm, pop, pop dance, post-teen pop...</td>\n",
       "    </tr>\n",
       "    <tr>\n",
       "      <th>2017-01-06</th>\n",
       "      <td>4</td>\n",
       "      <td>let me love you</td>\n",
       "      <td>DJ Snake</td>\n",
       "      <td>19852704</td>\n",
       "      <td>[dance pop, edm, electronic trap, pop, pop dance]</td>\n",
       "    </tr>\n",
       "    <tr>\n",
       "      <th>2017-01-06</th>\n",
       "      <td>5</td>\n",
       "      <td>i don’t wanna live forever (fifty shades darke...</td>\n",
       "      <td>ZAYN</td>\n",
       "      <td>18316326</td>\n",
       "      <td>[dance pop, pop, post-teen pop, uk pop]</td>\n",
       "    </tr>\n",
       "  </tbody>\n",
       "</table>\n",
       "</div>"
      ],
      "text/plain": [
       "            Rank                                              Track  \\\n",
       "date                                                                  \n",
       "2017-01-06     1                                            starboy   \n",
       "2017-01-06     2                                             closer   \n",
       "2017-01-06     3            rockabye (feat. sean paul & anne-marie)   \n",
       "2017-01-06     4                                    let me love you   \n",
       "2017-01-06     5  i don’t wanna live forever (fifty shades darke...   \n",
       "\n",
       "                      Artist   Streams  \\\n",
       "date                                     \n",
       "2017-01-06        The Weeknd  25734078   \n",
       "2017-01-06  The Chainsmokers  23519705   \n",
       "2017-01-06      Clean Bandit  21216399   \n",
       "2017-01-06          DJ Snake  19852704   \n",
       "2017-01-06              ZAYN  18316326   \n",
       "\n",
       "                                                Artist_Genres  \n",
       "date                                                           \n",
       "2017-01-06     [canadian contemporary r&b, canadian pop, pop]  \n",
       "2017-01-06  [dance pop, edm, electropop, pop, pop dance, t...  \n",
       "2017-01-06  [dance pop, edm, pop, pop dance, post-teen pop...  \n",
       "2017-01-06  [dance pop, edm, electronic trap, pop, pop dance]  \n",
       "2017-01-06            [dance pop, pop, post-teen pop, uk pop]  "
      ]
     },
     "execution_count": 212,
     "metadata": {},
     "output_type": "execute_result"
    },
    {
     "name": "stderr",
     "output_type": "stream",
     "text": [
      "d:\\UserD\\Programming\\Python\\christmasPredictor\\spotifyEnv\\lib\\site-packages\\ipykernel\\eventloops.py:258: RuntimeWarning: coroutine 'Kernel.do_one_iteration' was never awaited\n",
      "  self.func()\n",
      "RuntimeWarning: Enable tracemalloc to get the object allocation traceback\n"
     ]
    }
   ],
   "source": [
    "import numpy as np\n",
    "import pandas as pd\n",
    "import datetime\n",
    "import matplotlib.pyplot as plt\n",
    "%matplotlib inline\n",
    "\n",
    "# read csv into pandas dataframe\n",
    "df = pd.read_csv('archive/historicCharts.csv')\n",
    "\n",
    "# read the date strings into pandas as datetime objects\n",
    "df[\"date\"] = pd.to_datetime(df[\"Week\"])\n",
    "df = df.set_index(\"date\")\n",
    "df.drop([\"Week\"], axis=1, inplace=True)\n",
    "\n",
    "# drop other dataframe columns that aren't of interest\n",
    "df.drop([\"Explicit\", \"Track_Number_on_Album\", \"Artist_Followers\", \"Duration_MS\", \"Track_Number_on_Album\", \"Link\", \"Album_Name\"], axis=1, inplace=True)\n",
    "\n",
    "df[\"Artist\"] = df[\"Artist\"].astype('string')\n",
    "df[\"Track\"] = df[\"Track\"].astype('string').str.lower()\n",
    "\n",
    "# convert the Artist_Genres column to lists\n",
    "df[\"Artist_Genres\"] = df[\"Artist_Genres\"].apply(eval)\n",
    "\n",
    "df.plot(x=\"Rank\", y=\"Streams\", kind=\"scatter\", marker=\".\")\n",
    "df.head()"
   ]
  },
  {
   "cell_type": "code",
   "execution_count": null,
   "metadata": {},
   "outputs": [],
   "source": [
    "# filter by month (November and December seem to be the time for christmas songs)\n",
    "# score the songs by their position in the charts as follows (higher is better) \n",
    "# (250 - position)*(weeks the song was in the charts)\n",
    "december_df = df[df.index.month == 12]\n",
    "\n",
    "# The most frequently played christmas songs, determined by how often they appear in the charts around christmas\n",
    "# By using this method, one hit wonders and songs that just happen to be in the charts around christmas are not included (as often)\n",
    "# You could use a more sophisticated scoring function, but this ended up producing good results in my testing.\n",
    "december_df['Track'].value_counts().index[:60].values\n",
    "\n",
    "\n",
    "\n",
    "# Now let's see how these songs rank throughout the years\n",
    "#lastChristmas = df[df[\"Track\"] == \"last christmas\"]\n",
    "lastChristmas = df[df[\"Track\"] == \"santa claus is coming to town\"]\n",
    "lastChristmas  = lastChristmas.assign(Score = (250 - lastChristmas[\"Rank\"]))\n",
    "lastChristmas.plot(kind=\"line\", subplots=True)\n",
    "\n"
   ]
  },
  {
   "cell_type": "code",
   "execution_count": null,
   "metadata": {},
   "outputs": [],
   "source": []
  }
 ],
 "metadata": {
  "interpreter": {
   "hash": "6925d8bc2f7b497357809422332b640c321dc815f2df898ae8257e76d31646cb"
  },
  "kernelspec": {
   "display_name": "Python 3.9.1 64-bit ('spotifyEnv': venv)",
   "name": "python3"
  },
  "language_info": {
   "codemirror_mode": {
    "name": "ipython",
    "version": 3
   },
   "file_extension": ".py",
   "mimetype": "text/x-python",
   "name": "python",
   "nbconvert_exporter": "python",
   "pygments_lexer": "ipython3",
   "version": "3.9.1"
  },
  "orig_nbformat": 4
 },
 "nbformat": 4,
 "nbformat_minor": 2
}
